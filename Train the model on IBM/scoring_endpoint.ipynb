{
  "nbformat": 4,
  "nbformat_minor": 0,
  "metadata": {
    "colab": {
      "provenance": []
    },
    "kernelspec": {
      "name": "python3",
      "display_name": "Python 3"
    },
    "language_info": {
      "name": "python"
    }
  },
  "cells": [
    {
      "cell_type": "code",
      "execution_count": 1,
      "metadata": {
        "id": "Rg5wVbqrJWw7"
      },
      "outputs": [],
      "source": [
        "import requests"
      ]
    },
    {
      "cell_type": "code",
      "source": [
        "API_KEY = \"cWGD5yTjEpEGtqPpvHPDBElN5eXFS7eh2JRDyUWhySMW\"\n",
        "token_response = requests.post('https://iam.cloud.ibm.com/identity/token', data={\"apikey\":\n",
        " API_KEY, \"grant_type\": 'urn:ibm:params:oauth:grant-type:apikey'})\n",
        "mltoken = token_response.json()[\"access_token\"]"
      ],
      "metadata": {
        "id": "XkSRHncLJnzv"
      },
      "execution_count": 2,
      "outputs": []
    },
    {
      "cell_type": "code",
      "source": [
        "header = {'Content-Type': 'application/json', 'Authorization': 'Bearer ' + mltoken}"
      ],
      "metadata": {
        "id": "RofL5cvtJ0ct"
      },
      "execution_count": 3,
      "outputs": []
    },
    {
      "cell_type": "code",
      "source": [
        "payload_scoring = {\"input_data\": [{\"field\": [[\"UsingIP\",\"LongURL\",\"ShortURL\",\"Symbol@\",\"Redirecting//\",\"PrefixSuffix-\",\"SubDomains\",\"HTTPS\",\"DomainRegLen\",\"Favicon\",\"NonStdPort\",\"HTTPSDomainURL\",\"RequestURL\",\"AnchorURL\",\"LinksInScriptTags\",\"ServerFormHandler\",\"InfoEmail\",\"AbnormalURL\",\"WebsiteForwarding\",\"StatusBarCust\",\"DisableRightClick\",\"UsingPopupWindow\",\"IframeRedirection\",\"AgeofDomain\",\"DNSRecording\",\"WebsiteTraffic\",\"PageRank\",\"GoogleIndex\",\"LinksPointingToPage\",\"StatsReport\"\n",
        "]], \"values\": [[1,1,1,1,1,-1,-1,-1,-1,1,1,1,1,-1,-1,1,1,1,0,1,1,1,1,-1,-1,-1,-1,1,0,1]]}]}\n"
      ],
      "metadata": {
        "id": "VVVAvUQuJ8N6"
      },
      "execution_count": 4,
      "outputs": []
    },
    {
      "cell_type": "code",
      "source": [
        "response_scoring = requests.post('https://us-south.ml.cloud.ibm.com/ml/v4/deployments/084b5c52-f617-40ef-a0e8-3e6cf79ae447/predictions?version=2022-11-06', json=payload_scoring,\n",
        " headers={'Authorization': 'Bearer ' + mltoken})\n",
        "print(\"Scoring response\")\n",
        "predictions=response_scoring.json()\n",
        "#print(predictions)\n",
        "pred=print(predictions['predictions'][0]['values'][0][0])\n",
        "if(pred != 1):\n",
        "    print(\"The Website is secure.. Continue\")\n",
        "else:\n",
        "    print(\"The Website is not Legitimate... BEWARE!!\")"
      ],
      "metadata": {
        "colab": {
          "base_uri": "https://localhost:8080/"
        },
        "id": "QJ8qohH9KE3Q",
        "outputId": "02ea01e6-729a-4761-f132-6c2259295fbd"
      },
      "execution_count": 5,
      "outputs": [
        {
          "output_type": "stream",
          "name": "stdout",
          "text": [
            "Scoring response\n",
            "-1\n",
            "The Website is secure.. Continue\n"
          ]
        }
      ]
    }
  ]
}